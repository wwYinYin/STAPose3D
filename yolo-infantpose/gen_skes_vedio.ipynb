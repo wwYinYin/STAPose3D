{
 "cells": [
  {
   "cell_type": "code",
   "execution_count": 1,
   "metadata": {},
   "outputs": [
    {
     "name": "stderr",
     "output_type": "stream",
     "text": [
      "c:\\Users\\Yw\\anaconda3\\envs\\test1\\lib\\site-packages\\scipy\\__init__.py:146: UserWarning: A NumPy version >=1.16.5 and <1.23.0 is required for this version of SciPy (detected version 1.23.3\n",
      "  warnings.warn(f\"A NumPy version >={np_minversion} and <{np_maxversion}\"\n",
      "inf:   0%|          | 0/1000 [00:00<?, ?it/s]c:\\Users\\Yw\\anaconda3\\envs\\test1\\lib\\site-packages\\torch\\functional.py:568: UserWarning: torch.meshgrid: in an upcoming release, it will be required to pass the indexing argument. (Triggered internally at  C:\\cb\\pytorch_1000000000000\\work\\aten\\src\\ATen\\native\\TensorShape.cpp:2228.)\n",
      "  return _VF.meshgrid(tensors, **kwargs)  # type: ignore[attr-defined]\n",
      "inf: 100%|██████████| 1000/1000 [01:23<00:00, 12.04it/s]"
     ]
    },
    {
     "name": "stdout",
     "output_type": "stream",
     "text": [
      "(1000, 1, 57)\n"
     ]
    },
    {
     "name": "stderr",
     "output_type": "stream",
     "text": [
      "\n"
     ]
    }
   ],
   "source": [
    "import torch\n",
    "import cv2\n",
    "from torchvision import transforms\n",
    "import numpy as np\n",
    "import glob\n",
    "import os\n",
    "import tqdm\n",
    "from utils.datasets import letterbox\n",
    "from utils.general import non_max_suppression_kpt\n",
    "from utils.plots import output_to_keypoint\n",
    "\n",
    "\n",
    "device = torch.device(\"cuda:0\" if torch.cuda.is_available() else \"cpu\")\n",
    "weigths = torch.load('yolov7-w6-infantpose.pt')\n",
    "model = weigths['model']\n",
    "model = model.half().to(device)\n",
    "_ = model.eval()\n",
    "torch.set_grad_enabled(False)\n",
    "def process_keypoints(video_file, model):\n",
    "    video = cv2.VideoCapture(video_file)\n",
    "    num_frames = int(video.get(cv2.CAP_PROP_FRAME_COUNT))\n",
    "    pbar = tqdm.tqdm(total=num_frames, desc=\"inf\")\n",
    "    keypoints=[]\n",
    "    while video.isOpened():\n",
    "        ret, frame = video.read()\n",
    "        #print(frame.shape)\n",
    "        if (frame is None):\n",
    "            break\n",
    "\n",
    "        pbar.update(1)\n",
    "        \n",
    "        box = letterbox(frame, 1024, stride=64, auto=True)\n",
    "        frame=box[0]\n",
    "        frame_ = frame.copy()\n",
    "        frame = transforms.ToTensor()(frame)\n",
    "        frame = torch.tensor(np.array([frame.numpy()]))\n",
    "        frame = frame.to(device)\n",
    "        frame = frame.half()\n",
    "\n",
    "        output, _ = model(frame)\n",
    "\n",
    "        output = non_max_suppression_kpt(output, 0.25, 0.45, nc=model.yaml['nc'], nkpt=model.yaml['nkpt'], kpt_label=True)[0]\n",
    "        try:    \n",
    "            total_conf=output[:,8::3].sum(1,keepdim=True)\n",
    "            _, j = total_conf.max(0, keepdim=True)\n",
    "            output=output[int(j),:]\n",
    "            output=output.unsqueeze(0)\n",
    "        except:\n",
    "            try:\n",
    "                output=last_output\n",
    "                keypoints.append(output)\n",
    "                continue\n",
    "            except:\n",
    "                output=np.zeros((1,57))\n",
    "                keypoints.append(output)\n",
    "                continue\n",
    "        \n",
    "        with torch.no_grad():\n",
    "            output = output_to_keypoint(output)\n",
    "        last_output=output.copy()\n",
    "        keypoints.append(output)\n",
    "    \n",
    "    video.release()\n",
    "    keypoints_array=np.stack(keypoints)\n",
    "    return keypoints_array\n",
    "\n",
    "\n",
    "video_path = './data/video/infant.mp4'\n",
    "output_path = './data/results_npy/'\n",
    "\n",
    "vidname = os.path.basename(video_path)\n",
    "vname = vidname.split('.')[0]\n",
    "keypoints=process_keypoints(video_path, model)\n",
    "print(keypoints.shape)\n",
    "np.save(output_path+vname+'.npy',keypoints)"
   ]
  }
 ],
 "metadata": {
  "kernelspec": {
   "display_name": "Python 3.8.12 ('test1')",
   "language": "python",
   "name": "python3"
  },
  "language_info": {
   "codemirror_mode": {
    "name": "ipython",
    "version": 3
   },
   "file_extension": ".py",
   "mimetype": "text/x-python",
   "name": "python",
   "nbconvert_exporter": "python",
   "pygments_lexer": "ipython3",
   "version": "3.8.12"
  },
  "orig_nbformat": 4,
  "vscode": {
   "interpreter": {
    "hash": "d4ea86055c536c84ed31ac0f23ef192cd5c25142c16da6da81df27a8af304cbc"
   }
  }
 },
 "nbformat": 4,
 "nbformat_minor": 2
}
