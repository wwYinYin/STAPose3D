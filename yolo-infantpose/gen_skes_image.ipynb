{
 "cells": [
  {
   "cell_type": "code",
   "execution_count": null,
   "metadata": {},
   "outputs": [],
   "source": [
    "import matplotlib.pyplot as plt\n",
    "import torch\n",
    "import cv2\n",
    "from torchvision import transforms\n",
    "import numpy as np\n",
    "import os\n",
    "os.environ[\"KMP_DUPLICATE_LIB_OK\"]=\"TRUE\"\n",
    "import sys\n",
    "from utils.datasets import letterbox\n",
    "from utils.general import non_max_suppression_kpt\n",
    "from utils.plots import output_to_keypoint, plot_skeleton_kpts"
   ]
  },
  {
   "cell_type": "code",
   "execution_count": null,
   "metadata": {},
   "outputs": [],
   "source": [
    "device = torch.device(\"cuda:0\" if torch.cuda.is_available() else \"cpu\")\n",
    "weigths = torch.load('yolov7-w6-pose.pt', map_location=device)\n",
    "model = weigths['model']\n",
    "_ = model.float().eval()\n",
    "\n",
    "if torch.cuda.is_available():\n",
    "    model.half().to(device)"
   ]
  },
  {
   "cell_type": "code",
   "execution_count": null,
   "metadata": {},
   "outputs": [],
   "source": [
    "def get_files(path):\n",
    "    files=list()\n",
    "    for filepath,dirnames,filenames in os.walk(path):\n",
    "        for filename in filenames:\n",
    "            files.append(os.path.join(filepath,filename))\n",
    "    return files\n",
    "image_path=\"./data/image/infant_image.jpg\"\n",
    "save_path='./data/results_npy/'\n",
    "\n",
    "vidname = os.path.basename(image_path)\n",
    "vname = vidname.split('.')[0]\n",
    "image = cv2.imread(image_path)\n",
    "image = letterbox(image, 1024, stride=64, auto=True)[0]\n",
    "image_ = image.copy()\n",
    "image = transforms.ToTensor()(image)\n",
    "image = torch.tensor(np.array([image.numpy()]))\n",
    "if torch.cuda.is_available():\n",
    "    image = image.half().to(device)   \n",
    "output, _ = model(image)\n",
    "\n",
    "output = non_max_suppression_kpt(output, 0.5, 0.65, nc=model.yaml['nc'], nkpt=model.yaml['nkpt'], kpt_label=True)[0]\n",
    "assert output.shape[0]>=1, f'{image_path}'\n",
    "total_conf=output[:,8::3].sum(1,keepdim=True)\n",
    "_, j = total_conf.max(0, keepdim=True)\n",
    "output=output[int(j),:]\n",
    "output=output.unsqueeze(0)\n",
    "\n",
    "with torch.no_grad():\n",
    "    output = output_to_keypoint(output)\n",
    "assert output.shape[0]==1 and output.shape[1]==57, f'{image_path}'\n",
    "np.savetxt(save_path + vname + '.txt', output,fmt='%f',delimiter=' ')"
   ]
  }
 ],
 "metadata": {
  "kernelspec": {
   "display_name": "Python 3.8.12 ('test1')",
   "language": "python",
   "name": "python3"
  },
  "language_info": {
   "codemirror_mode": {
    "name": "ipython",
    "version": 3
   },
   "file_extension": ".py",
   "mimetype": "text/x-python",
   "name": "python",
   "nbconvert_exporter": "python",
   "pygments_lexer": "ipython3",
   "version": "3.8.12"
  },
  "orig_nbformat": 4,
  "vscode": {
   "interpreter": {
    "hash": "d4ea86055c536c84ed31ac0f23ef192cd5c25142c16da6da81df27a8af304cbc"
   }
  }
 },
 "nbformat": 4,
 "nbformat_minor": 2
}
